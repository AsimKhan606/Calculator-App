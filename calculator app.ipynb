{
 "cells": [
  {
   "cell_type": "code",
   "execution_count": null,
   "id": "5b35ec00",
   "metadata": {},
   "outputs": [],
   "source": [
    "# calculator.py\n",
    "\n",
    "def add(x, y):\n",
    "    return x + y\n",
    "\n",
    "def subtract(x, y):\n",
    "    return x - y\n",
    "\n",
    "def multiply(x, y):\n",
    "    return x * y\n",
    "\n",
    "def divide(x, y):\n",
    "    if y != 0:\n",
    "        return x / y\n",
    "    else:\n",
    "        return \"Error! Division by zero.\"\n",
    "\n",
    "print(\"Simple Calculator\")\n",
    "print(\"Operations: 1.Add  2.Subtract  3.Multiply  4.Divide\")\n",
    "\n",
    "choice = int(input(\"Enter choice (1-4): \"))\n",
    "a = float(input(\"Enter first number: \"))\n",
    "b = float(input(\"Enter second number: \"))\n",
    "\n",
    "if choice == 1:\n",
    "    print(\"Result:\", add(a, b))\n",
    "elif choice == 2:\n",
    "    print(\"Result:\", subtract(a, b))\n",
    "elif choice == 3:\n",
    "    print(\"Result:\", multiply(a, b))\n",
    "elif choice == 4:\n",
    "    print(\"Result:\", divide(a, b))\n",
    "else:\n",
    "    print(\"Invalid choice!\")\n"
   ]
  }
 ],
 "metadata": {
  "kernelspec": {
   "display_name": "Python 3",
   "language": "python",
   "name": "python3"
  },
  "language_info": {
   "codemirror_mode": {
    "name": "ipython",
    "version": 3
   },
   "file_extension": ".py",
   "mimetype": "text/x-python",
   "name": "python",
   "nbconvert_exporter": "python",
   "pygments_lexer": "ipython3",
   "version": "3.13.3"
  }
 },
 "nbformat": 4,
 "nbformat_minor": 5
}
